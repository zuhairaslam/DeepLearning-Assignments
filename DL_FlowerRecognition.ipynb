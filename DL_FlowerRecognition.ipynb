{
  "nbformat": 4,
  "nbformat_minor": 0,
  "metadata": {
    "colab": {
      "name": "DL-FlowerRecognition(v2).ipynb",
      "provenance": [],
      "collapsed_sections": []
    },
    "kernelspec": {
      "name": "python3",
      "display_name": "Python 3"
    },
    "language_info": {
      "name": "python"
    }
  },
  "cells": [
    {
      "cell_type": "code",
      "metadata": {
        "id": "NAJfT4jCU7EU"
      },
      "source": [
        "import numpy as np\n",
        "import pandas as pd\n",
        "import tensorflow as tf\n",
        "import matplotlib.pyplot as plt\n",
        "from tensorflow.keras import models\n",
        "from tensorflow.keras import layers\n",
        "from tensorflow.keras.preprocessing.image import ImageDataGenerator\n",
        "from tensorflow.keras.models import Sequential\n",
        "from tensorflow.keras.layers import Dense, Flatten\n",
        "from tensorflow.keras.optimizers import RMSprop"
      ],
      "execution_count": 1,
      "outputs": []
    },
    {
      "cell_type": "code",
      "metadata": {
        "id": "_g2lbPgWfxqc",
        "colab": {
          "base_uri": "https://localhost:8080/"
        },
        "outputId": "c2cbaf01-34d6-4bbd-d9c7-1d4d1839e810"
      },
      "source": [
        "from google.colab import drive\n",
        "drive.mount('/content/drive')"
      ],
      "execution_count": 2,
      "outputs": [
        {
          "output_type": "stream",
          "text": [
            "Drive already mounted at /content/drive; to attempt to forcibly remount, call drive.mount(\"/content/drive\", force_remount=True).\n"
          ],
          "name": "stdout"
        }
      ]
    },
    {
      "cell_type": "code",
      "metadata": {
        "colab": {
          "base_uri": "https://localhost:8080/"
        },
        "id": "CKLpPnx9BCm_",
        "outputId": "32094f62-616e-47f0-f111-6b781a0907e7"
      },
      "source": [
        "train_batch = 10\n",
        "val_batch = 32\n",
        "\n",
        "train_datagen = ImageDataGenerator(\n",
        "        rescale=1./255,\n",
        "        validation_split=0.4)\n",
        "\n",
        "train_generator = train_datagen.flow_from_directory(\n",
        "        '/content/drive/MyDrive/Data/flowers/flowers',\n",
        "        target_size=(180, 180),\n",
        "        batch_size=train_batch,\n",
        "        class_mode='sparse',\n",
        "        subset = 'training',\n",
        "        color_mode = 'grayscale',\n",
        "        shuffle = True)\n",
        "\n",
        "validation_generator = train_datagen.flow_from_directory(\n",
        "        '/content/drive/MyDrive/Data/flowers/flowers',\n",
        "        target_size=(180, 180),\n",
        "        batch_size=val_batch,\n",
        "        class_mode='sparse',\n",
        "        subset = 'validation',\n",
        "        color_mode = 'grayscale',\n",
        "        shuffle = True)"
      ],
      "execution_count": 3,
      "outputs": [
        {
          "output_type": "stream",
          "text": [
            "Found 2597 images belonging to 5 classes.\n",
            "Found 1726 images belonging to 5 classes.\n"
          ],
          "name": "stdout"
        }
      ]
    },
    {
      "cell_type": "code",
      "metadata": {
        "colab": {
          "base_uri": "https://localhost:8080/"
        },
        "id": "XlMWMqLSFNXX",
        "outputId": "434a7f74-9aa4-494a-f081-5dde988cc359"
      },
      "source": [
        "train_generator.class_indices"
      ],
      "execution_count": 4,
      "outputs": [
        {
          "output_type": "execute_result",
          "data": {
            "text/plain": [
              "{'daisy': 0, 'dandelion': 1, 'rose': 2, 'sunflower': 3, 'tulip': 4}"
            ]
          },
          "metadata": {
            "tags": []
          },
          "execution_count": 4
        }
      ]
    },
    {
      "cell_type": "code",
      "metadata": {
        "colab": {
          "base_uri": "https://localhost:8080/"
        },
        "id": "zbb9pAI2Iitk",
        "outputId": "3ad7d658-6d3d-42d4-8665-aca8be61625a"
      },
      "source": [
        "type(train_datagen)"
      ],
      "execution_count": 5,
      "outputs": [
        {
          "output_type": "execute_result",
          "data": {
            "text/plain": [
              "tensorflow.python.keras.preprocessing.image.ImageDataGenerator"
            ]
          },
          "metadata": {
            "tags": []
          },
          "execution_count": 5
        }
      ]
    },
    {
      "cell_type": "code",
      "metadata": {
        "colab": {
          "base_uri": "https://localhost:8080/"
        },
        "id": "Bt1dQ61uIrI8",
        "outputId": "a0a62192-e027-4e68-afc2-1eef0f3d324a"
      },
      "source": [
        "type(train_generator)"
      ],
      "execution_count": 6,
      "outputs": [
        {
          "output_type": "execute_result",
          "data": {
            "text/plain": [
              "tensorflow.python.keras.preprocessing.image.DirectoryIterator"
            ]
          },
          "metadata": {
            "tags": []
          },
          "execution_count": 6
        }
      ]
    },
    {
      "cell_type": "code",
      "metadata": {
        "colab": {
          "base_uri": "https://localhost:8080/"
        },
        "id": "j1qHr8CAI5Lb",
        "outputId": "fd9c5583-46cb-480f-8657-369131c29331"
      },
      "source": [
        "train_generator[31][1]"
      ],
      "execution_count": 7,
      "outputs": [
        {
          "output_type": "execute_result",
          "data": {
            "text/plain": [
              "array([4., 4., 0., 4., 3., 4., 4., 1., 2., 4.], dtype=float32)"
            ]
          },
          "metadata": {
            "tags": []
          },
          "execution_count": 7
        }
      ]
    },
    {
      "cell_type": "code",
      "metadata": {
        "id": "rBSMEJ_VKjxC"
      },
      "source": [
        "#Model building\n",
        "\n",
        "model = Sequential()\n",
        "model.add(Flatten())\n",
        "model.add(Dense(10, activation='relu'))\n",
        "model.add(Dense(8, activation='relu'))\n",
        "model.add(Dense(5, activation='softmax'))"
      ],
      "execution_count": 8,
      "outputs": []
    },
    {
      "cell_type": "code",
      "metadata": {
        "id": "0se2YWpZN3f8"
      },
      "source": [
        "model.compile(\n",
        "    optimizer='rmsprop', \n",
        "    loss='sparse_categorical_crossentropy', \n",
        "    metrics=['accuracy'])"
      ],
      "execution_count": 9,
      "outputs": []
    },
    {
      "cell_type": "code",
      "metadata": {
        "colab": {
          "base_uri": "https://localhost:8080/"
        },
        "id": "J3IDIOedOKI3",
        "outputId": "14a76b92-965f-456e-976f-4901e01cd20e"
      },
      "source": [
        "with tf.device('/device:GPU:0'):\n",
        "  history = model.fit(\n",
        "      train_generator,\n",
        "      steps_per_epoch = 20,\n",
        "      batch_size = train_batch,\n",
        "      validation_data = validation_generator,\n",
        "      validation_batch_size = val_batch,\n",
        "      epochs=20)"
      ],
      "execution_count": 10,
      "outputs": [
        {
          "output_type": "stream",
          "text": [
            "Epoch 1/20\n",
            "20/20 [==============================] - 130s 7s/step - loss: 4.6040 - accuracy: 0.2097 - val_loss: 1.6095 - val_accuracy: 0.2289\n",
            "Epoch 2/20\n",
            "20/20 [==============================] - 40s 2s/step - loss: 1.6088 - accuracy: 0.2076 - val_loss: 1.6083 - val_accuracy: 0.2283\n",
            "Epoch 3/20\n",
            "20/20 [==============================] - 34s 2s/step - loss: 1.6085 - accuracy: 0.2271 - val_loss: 1.6075 - val_accuracy: 0.2271\n",
            "Epoch 4/20\n",
            "20/20 [==============================] - 30s 2s/step - loss: 1.6065 - accuracy: 0.2835 - val_loss: 1.6067 - val_accuracy: 0.2433\n",
            "Epoch 5/20\n",
            "20/20 [==============================] - 33s 2s/step - loss: 1.6102 - accuracy: 0.2109 - val_loss: 1.6065 - val_accuracy: 0.2433\n",
            "Epoch 6/20\n",
            "20/20 [==============================] - 30s 2s/step - loss: 1.6049 - accuracy: 0.2369 - val_loss: 1.6060 - val_accuracy: 0.2433\n",
            "Epoch 7/20\n",
            "20/20 [==============================] - 25s 1s/step - loss: 1.6080 - accuracy: 0.2084 - val_loss: 1.6056 - val_accuracy: 0.2433\n",
            "Epoch 8/20\n",
            "20/20 [==============================] - 25s 1s/step - loss: 1.6009 - accuracy: 0.2509 - val_loss: 1.6045 - val_accuracy: 0.2433\n",
            "Epoch 9/20\n",
            "20/20 [==============================] - 26s 1s/step - loss: 1.5996 - accuracy: 0.2865 - val_loss: 1.6039 - val_accuracy: 0.2433\n",
            "Epoch 10/20\n",
            "20/20 [==============================] - 23s 1s/step - loss: 1.6100 - accuracy: 0.1589 - val_loss: 1.6040 - val_accuracy: 0.2433\n",
            "Epoch 11/20\n",
            "20/20 [==============================] - 24s 1s/step - loss: 1.6009 - accuracy: 0.2562 - val_loss: 1.6036 - val_accuracy: 0.2433\n",
            "Epoch 12/20\n",
            "20/20 [==============================] - 18s 882ms/step - loss: 1.6025 - accuracy: 0.2671 - val_loss: 1.6032 - val_accuracy: 0.2433\n",
            "Epoch 13/20\n",
            "20/20 [==============================] - 19s 952ms/step - loss: 1.6030 - accuracy: 0.1738 - val_loss: 1.6030 - val_accuracy: 0.2433\n",
            "Epoch 14/20\n",
            "20/20 [==============================] - 21s 1s/step - loss: 1.6011 - accuracy: 0.2893 - val_loss: 1.6023 - val_accuracy: 0.2433\n",
            "Epoch 15/20\n",
            "20/20 [==============================] - 17s 909ms/step - loss: 1.5997 - accuracy: 0.2637 - val_loss: 1.6024 - val_accuracy: 0.2433\n",
            "Epoch 16/20\n",
            "20/20 [==============================] - 18s 940ms/step - loss: 1.6112 - accuracy: 0.2400 - val_loss: 1.6022 - val_accuracy: 0.2433\n",
            "Epoch 17/20\n",
            "20/20 [==============================] - 17s 907ms/step - loss: 1.6034 - accuracy: 0.2828 - val_loss: 1.6021 - val_accuracy: 0.2433\n",
            "Epoch 18/20\n",
            "20/20 [==============================] - 15s 794ms/step - loss: 1.5946 - accuracy: 0.2974 - val_loss: 1.6011 - val_accuracy: 0.2433\n",
            "Epoch 19/20\n",
            "20/20 [==============================] - 16s 809ms/step - loss: 1.5950 - accuracy: 0.3010 - val_loss: 1.6009 - val_accuracy: 0.2433\n",
            "Epoch 20/20\n",
            "20/20 [==============================] - 15s 755ms/step - loss: 1.5973 - accuracy: 0.2024 - val_loss: 1.6006 - val_accuracy: 0.2433\n"
          ],
          "name": "stdout"
        }
      ]
    },
    {
      "cell_type": "code",
      "metadata": {
        "colab": {
          "base_uri": "https://localhost:8080/"
        },
        "id": "EzbWnayxQcCc",
        "outputId": "52ae9d9f-5b29-4a18-d0fd-d8f8bcf3b427"
      },
      "source": [
        "model.evaluate(validation_generator)"
      ],
      "execution_count": 11,
      "outputs": [
        {
          "output_type": "stream",
          "text": [
            "54/54 [==============================] - 7s 137ms/step - loss: 1.6006 - accuracy: 0.2433\n"
          ],
          "name": "stdout"
        },
        {
          "output_type": "execute_result",
          "data": {
            "text/plain": [
              "[1.6005592346191406, 0.24333719909191132]"
            ]
          },
          "metadata": {
            "tags": []
          },
          "execution_count": 11
        }
      ]
    },
    {
      "cell_type": "code",
      "metadata": {
        "colab": {
          "base_uri": "https://localhost:8080/"
        },
        "id": "622RgkhYhM2E",
        "outputId": "d0308458-93df-49e1-8366-bb23eea66338"
      },
      "source": [
        "x = history.history.keys()\n",
        "x"
      ],
      "execution_count": 15,
      "outputs": [
        {
          "output_type": "execute_result",
          "data": {
            "text/plain": [
              "dict_keys(['loss', 'accuracy', 'val_loss', 'val_accuracy'])"
            ]
          },
          "metadata": {
            "tags": []
          },
          "execution_count": 15
        }
      ]
    },
    {
      "cell_type": "code",
      "metadata": {
        "colab": {
          "base_uri": "https://localhost:8080/",
          "height": 295
        },
        "id": "UM8klpMfhSHt",
        "outputId": "de910f5b-0ca2-42b2-acb4-3834f100c68c"
      },
      "source": [
        "from keras.models import Sequential\n",
        "from keras.layers import Dense\n",
        "import matplotlib.pyplot as plt\n",
        "import numpy\n",
        "plt.plot(history.history['accuracy'])\n",
        "plt.plot(history.history['val_accuracy'])\n",
        "plt.title('Model Accuracy')\n",
        "plt.ylabel('accuracy')\n",
        "plt.xlabel('epoch')\n",
        "plt.show()"
      ],
      "execution_count": 24,
      "outputs": [
        {
          "output_type": "display_data",
          "data": {
            "image/png": "[encoded data removed]",
            "text/plain": [
              "<Figure size 432x288 with 1 Axes>"
            ]
          },
          "metadata": {
            "tags": [],
            "needs_background": "light"
          }
        }
      ]
    },
    {
      "cell_type": "code",
      "metadata": {
        "colab": {
          "base_uri": "https://localhost:8080/",
          "height": 295
        },
        "id": "kw6KvRCiiQKy",
        "outputId": "a736873e-bf76-4d6d-944b-43813d1239c5"
      },
      "source": [
        "plt.plot(history.history['loss'])\n",
        "plt.plot(history.history['val_loss'])\n",
        "plt.title('model loss')\n",
        "plt.ylabel('loss')\n",
        "plt.xlabel('epoch')\n",
        "plt.show()"
      ],
      "execution_count": 25,
      "outputs": [
        {
          "output_type": "display_data",
          "data": {
            "image/png": "[encoded data removed]",
            "text/plain": [
              "<Figure size 432x288 with 1 Axes>"
            ]
          },
          "metadata": {
            "tags": [],
            "needs_background": "light"
          }
        }
      ]
    },
    {
      "cell_type": "code",
      "metadata": {
        "id": "JlPV8ojyjNrT"
      },
      "source": [
        "y_pred1 = model.predict(validation_generator)"
      ],
      "execution_count": 26,
      "outputs": []
    },
    {
      "cell_type": "code",
      "metadata": {
        "colab": {
          "base_uri": "https://localhost:8080/"
        },
        "id": "AgrwQ3vSkHsg",
        "outputId": "91c68831-10f6-42a6-99f2-cb88375369ab"
      },
      "source": [
        "y_pred1"
      ],
      "execution_count": 27,
      "outputs": [
        {
          "output_type": "execute_result",
          "data": {
            "text/plain": [
              "array([[0.18974493, 0.22372817, 0.18967058, 0.17964907, 0.21720727],\n",
              "       [0.18974493, 0.22372817, 0.18967058, 0.17964907, 0.21720727],\n",
              "       [0.18974493, 0.22372817, 0.18967058, 0.17964907, 0.21720727],\n",
              "       ...,\n",
              "       [0.18974493, 0.22372817, 0.18967058, 0.17964907, 0.21720727],\n",
              "       [0.18974493, 0.22372817, 0.18967058, 0.17964907, 0.21720727],\n",
              "       [0.18974493, 0.22372817, 0.18967058, 0.17964907, 0.21720727]],\n",
              "      dtype=float32)"
            ]
          },
          "metadata": {
            "tags": []
          },
          "execution_count": 27
        }
      ]
    },
    {
      "cell_type": "code",
      "metadata": {
        "id": "FWPAjXhNkK09"
      },
      "source": [
        ""
      ],
      "execution_count": null,
      "outputs": []
    }
  ]
}